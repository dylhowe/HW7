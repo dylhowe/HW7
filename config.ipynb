{
 "cells": [
  {
   "cell_type": "code",
   "execution_count": null,
   "metadata": {},
   "outputs": [],
   "source": [
    "# Twitter API Keys\n",
    "consumer_key = \"4bj66sNbB2WghWSJfNT3k8HyO\"\n",
    "consumer_secret = \"nTG0FTuo3eQREkerl8QAU5UWDVnxb7jH7CiH6QauQ13RFo7Ts7\"\n",
    "access_token = \"254597038-DA8enlaJgK1gsinNdfEAs0s4yczhdqYdV5RYF9bJ\"\n",
    "access_token_secret = \"rvHrNf8On5hI78SB42kd7eY9zluSXsEAZUFuV4dsuNpfM\"\n"
   ]
  }
 ],
 "metadata": {
  "kernelspec": {
   "display_name": "Python 3",
   "language": "python",
   "name": "python3"
  },
  "language_info": {
   "codemirror_mode": {
    "name": "ipython",
    "version": 3
   },
   "file_extension": ".py",
   "mimetype": "text/x-python",
   "name": "python",
   "nbconvert_exporter": "python",
   "pygments_lexer": "ipython3",
   "version": "3.6.4"
  }
 },
 "nbformat": 4,
 "nbformat_minor": 2
}
