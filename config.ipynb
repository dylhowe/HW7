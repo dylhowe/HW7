{
 "cells": [
  {
   "cell_type": "code",
   "execution_count": null,
   "metadata": {},
   "outputs": [],
   "source": [
    "# Twitter API Keys\n",
    "consumer_key = \"M5YOsYOgfItQsrLRVzE47rJAk\"\n",
    "consumer_secret = \"xCX5AJnI2KbwCMuxEmqWdTK7Wpb6ovJBTakWKpcLsg3CSGEjhT\"\n",
    "access_token = \"254597038-14CUg9piBiDbyozYHYPNcrvc9jstPqLLZI3BKhBX\"\n",
    "access_token_secret = \"ogCOuMrcVqDOeAkoaBS74I6HBNyOP5QOuQ8KLAwJ5n43H\"\n"
   ]
  }
 ],
 "metadata": {
  "kernelspec": {
   "display_name": "Python 3",
   "language": "python",
   "name": "python3"
  },
  "language_info": {
   "codemirror_mode": {
    "name": "ipython",
    "version": 3
   },
   "file_extension": ".py",
   "mimetype": "text/x-python",
   "name": "python",
   "nbconvert_exporter": "python",
   "pygments_lexer": "ipython3",
   "version": "3.6.4"
  }
 },
 "nbformat": 4,
 "nbformat_minor": 2
}
